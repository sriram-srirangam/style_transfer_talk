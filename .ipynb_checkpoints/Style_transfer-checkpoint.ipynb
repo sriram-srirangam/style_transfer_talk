{
 "cells": [
  {
   "cell_type": "code",
   "execution_count": null,
   "id": "669d1ee4-f83d-435e-b448-47c0376e9d53",
   "metadata": {},
   "outputs": [],
   "source": [
    "import PIL\n",
    "import torch\n",
    "import torchvision\n",
    "\n",
    "import matplotlib.pyplot as plt\n",
    "\n",
    "from style_modules import ContentLoss, StyleLoss, TotalVariationLoss\n",
    "from style_utils import preprocess, style_transfer"
   ]
  },
  {
   "cell_type": "markdown",
   "id": "a9289b36-6e53-4faa-bdbc-d3cd77da6bee",
   "metadata": {},
   "source": [
    "#### Style transfer"
   ]
  },
  {
   "cell_type": "code",
   "execution_count": null,
   "id": "0af919af-f683-4959-b33f-d6b3131bdf85",
   "metadata": {},
   "outputs": [],
   "source": [
    "cthulhu = PIL.Image.open('styles_images/cthulhu.jpg')"
   ]
  },
  {
   "cell_type": "code",
   "execution_count": null,
   "id": "0b65b44b-e499-4e79-a3ed-83060fad6104",
   "metadata": {
    "tags": []
   },
   "outputs": [],
   "source": [
    "plt.imshow(preprocess(cthulhu)[0].permute((1, 2, 0)))"
   ]
  },
  {
   "cell_type": "code",
   "execution_count": null,
   "id": "6bd44ac2-974a-4f10-96a5-74aa49ecc821",
   "metadata": {},
   "outputs": [],
   "source": [
    "content_loss = ContentLoss()\n",
    "style_loss = StyleLoss()\n",
    "tv_loss = TotalVariationLoss()\n",
    "\n",
    "dtype = torch.FloatTensor\n",
    "\n",
    "cnn = torchvision.models.squeezenet1_1(pretrained=True).features\n",
    "cnn.type(dtype)\n",
    "\n",
    "# Fix the weights of the pretrained network\n",
    "for param in cnn.parameters():\n",
    "    param.requires_grad = False\n",
    "\n",
    "content_source = \"tubingen\"\n",
    "style_source = \"starry_night\"\n",
    "    \n",
    "params = {\n",
    "    'name': f\"{style_source}_{content_source}\",\n",
    "    'content_image' : f\"styles_images/{content_source}.jpg\",\n",
    "    'style_image' : f\"styles_images/{style_source}.jpg\",\n",
    "    'image_size' : 192,\n",
    "    'style_size' : 192,\n",
    "    'content_layer' : 3,\n",
    "    'content_weight' : 6e-2,\n",
    "    'style_layers' : [1, 4, 6, 7],\n",
    "    'style_weights' : [300000, 1000, 15, 3],\n",
    "    'tv_weight' : 2e-2,\n",
    "    'content_loss': content_loss,\n",
    "    'style_loss': style_loss,\n",
    "    'tv_loss': tv_loss,\n",
    "    'cnn': cnn,\n",
    "    'dtype': dtype\n",
    "}"
   ]
  },
  {
   "cell_type": "code",
   "execution_count": null,
   "id": "3866361a-e4dc-48b4-8aa7-7f63dd44d76e",
   "metadata": {},
   "outputs": [],
   "source": [
    "style_transfer(**params)"
   ]
  },
  {
   "cell_type": "code",
   "execution_count": null,
   "id": "2e12ab83-7352-45b0-b462-c2e55b891161",
   "metadata": {},
   "outputs": [],
   "source": []
  }
 ],
 "metadata": {
  "kernelspec": {
   "display_name": "Python 3",
   "language": "python",
   "name": "python3"
  },
  "language_info": {
   "codemirror_mode": {
    "name": "ipython",
    "version": 3
   },
   "file_extension": ".py",
   "mimetype": "text/x-python",
   "name": "python",
   "nbconvert_exporter": "python",
   "pygments_lexer": "ipython3",
   "version": "3.6.5"
  }
 },
 "nbformat": 4,
 "nbformat_minor": 5
}
