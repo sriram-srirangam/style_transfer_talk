{
 "cells": [
  {
   "cell_type": "code",
   "execution_count": null,
   "id": "2400c5ca-6504-4cb9-ad29-43c39f69b599",
   "metadata": {},
   "outputs": [],
   "source": [
    "import PIL\n",
    "import torch\n",
    "import torchvision\n",
    "\n",
    "import numpy as np\n",
    "import matplotlib.pyplot as plt\n",
    "\n",
    "from data_utils import load_imagenet_val\n",
    "from image_utils import preprocess_image\n",
    "from utils import *\n",
    "from style_modules import ContentLoss, StyleLoss, TotalVariationLoss\n",
    "from style_utils import preprocess, style_transfer"
   ]
  },
  {
   "cell_type": "markdown",
   "id": "2d50f342-08cd-4360-ae31-9640dcaf43f9",
   "metadata": {},
   "source": [
    "#### Example 1"
   ]
  },
  {
   "cell_type": "markdown",
   "id": "b6393330-302f-44e6-95d5-79ade6e3e134",
   "metadata": {},
   "source": [
    "$ f_1: \\mathbb{R} \\times \\mathbb{R} \\to \\mathbb{R} $\n",
    "\n",
    "$ f_1(x, y) = 3x^2 + y^2 $\n",
    "\n",
    "$ \\frac{\\partial f_1}{dx} = 6x $\n",
    "\n",
    "$ \\frac{\\partial f_1}{dy} = 2y $"
   ]
  },
  {
   "cell_type": "code",
   "execution_count": null,
   "id": "40d7068f-6f2c-44fe-9bda-7bc64df361c3",
   "metadata": {},
   "outputs": [],
   "source": [
    "f_1 = lambda x, y: with_grad(3 * x ** 2 + y ** 2)"
   ]
  },
  {
   "cell_type": "code",
   "execution_count": null,
   "id": "1d880529-2db7-4705-8a0e-58148228c7a7",
   "metadata": {},
   "outputs": [],
   "source": [
    "x = torch.FloatTensor([5]).requires_grad_(True)\n",
    "y = torch.FloatTensor([-7]).requires_grad_(True)"
   ]
  },
  {
   "cell_type": "code",
   "execution_count": null,
   "id": "f6d9104e-fe90-44f1-8722-f304080629c6",
   "metadata": {},
   "outputs": [],
   "source": [
    "f_1(x, y)"
   ]
  },
  {
   "cell_type": "code",
   "execution_count": null,
   "id": "2dd93ca4-e972-4622-9577-36a16c3459ed",
   "metadata": {},
   "outputs": [],
   "source": [
    "x.grad"
   ]
  },
  {
   "cell_type": "code",
   "execution_count": null,
   "id": "512b0d1b-ff93-4da9-969a-29038e0f4498",
   "metadata": {},
   "outputs": [],
   "source": [
    "y.grad"
   ]
  },
  {
   "cell_type": "markdown",
   "id": "8c5a6d53-62d3-4089-9833-7dacd662de75",
   "metadata": {},
   "source": [
    "#### Example 2"
   ]
  },
  {
   "cell_type": "markdown",
   "id": "1ff29637-3cba-4c21-a26f-902a7c2d294f",
   "metadata": {},
   "source": [
    "$ f_2: \\mathbb{R}^2 \\to \\mathbb{R} $\n",
    "\n",
    "$ f_2(\\langle v_1, v_2 \\rangle) = 3v_1^2 + v_2^2 $\n",
    "\n",
    "$ \\nabla f_2 = \\langle \\frac{\\partial f_2}{dv_1}, \\frac{\\partial f_2}{dv_2} \\rangle = \\langle 6v_1, 2v_2 \\rangle $"
   ]
  },
  {
   "cell_type": "code",
   "execution_count": null,
   "id": "e5ec48e6-266d-4d2e-ba21-53e7a2a77eb6",
   "metadata": {
    "tags": []
   },
   "outputs": [],
   "source": [
    "f_2 = lambda v: with_grad(3 * v[0] ** 2 + v[1] ** 2)"
   ]
  },
  {
   "cell_type": "code",
   "execution_count": null,
   "id": "70e62d73-34f8-4eb4-ab7a-014c1ba1f107",
   "metadata": {},
   "outputs": [],
   "source": [
    "v = torch.FloatTensor([5, -7]).requires_grad_(True)"
   ]
  },
  {
   "cell_type": "code",
   "execution_count": null,
   "id": "761dec45-2714-407e-80d6-d1beebc1af99",
   "metadata": {},
   "outputs": [],
   "source": [
    "f_2(v)"
   ]
  },
  {
   "cell_type": "code",
   "execution_count": null,
   "id": "36545e79-f3fd-41da-ac3e-c96b136732f6",
   "metadata": {},
   "outputs": [],
   "source": [
    "v.grad"
   ]
  },
  {
   "cell_type": "markdown",
   "id": "95eace84-06cc-451f-911e-406a63f840c9",
   "metadata": {},
   "source": [
    "#### Image example"
   ]
  },
  {
   "cell_type": "code",
   "execution_count": null,
   "id": "37828d89-3a94-4f89-94ff-76bdff3752a5",
   "metadata": {},
   "outputs": [],
   "source": [
    "X, y, class_names = load_imagenet_val(num=16)"
   ]
  },
  {
   "cell_type": "code",
   "execution_count": null,
   "id": "e48a7fd6-16fc-453b-820e-c0cea52626f5",
   "metadata": {},
   "outputs": [],
   "source": [
    "plt.imshow(X[0])"
   ]
  },
  {
   "cell_type": "code",
   "execution_count": null,
   "id": "2ce3e8ee-4379-43f4-b144-3c981b715e20",
   "metadata": {},
   "outputs": [],
   "source": [
    "img_tensor = torch.tensor(preprocess_image(X[0])).requires_grad_(True)"
   ]
  },
  {
   "cell_type": "markdown",
   "id": "1f2df0d2-0bdf-4401-94e8-4cab014deff6",
   "metadata": {},
   "source": [
    "$ f: \\mathbb{R}^{h \\times w \\times 3} \\to \\mathbb{R} $\n",
    "\n",
    "$ f(\\langle x_1, ..., x_{h \\cdot w \\cdot 3} \\rangle) = \\sum_{i=1}^{h \\cdot w \\cdot 3} x_i^2 $"
   ]
  },
  {
   "cell_type": "code",
   "execution_count": null,
   "id": "2c590da5-ccce-4b0a-9d15-8c3923371807",
   "metadata": {},
   "outputs": [],
   "source": [
    "# Define scalar-valued function on image tensor\n",
    "\n",
    "f = lambda img: with_grad(img_tensor.square().sum())"
   ]
  },
  {
   "cell_type": "code",
   "execution_count": null,
   "id": "20c4d91b-2edc-4882-a9bc-c554481fcdfc",
   "metadata": {},
   "outputs": [],
   "source": [
    "f(img_tensor)"
   ]
  },
  {
   "cell_type": "code",
   "execution_count": null,
   "id": "e019587b-fe8c-402a-a667-e032e6d94de8",
   "metadata": {},
   "outputs": [],
   "source": [
    "img_tensor.grad.shape"
   ]
  },
  {
   "cell_type": "markdown",
   "id": "b156390f-aa9d-4231-b95b-ac71ecd4a635",
   "metadata": {},
   "source": [
    "#### Pre-trained NN"
   ]
  },
  {
   "cell_type": "code",
   "execution_count": null,
   "id": "49833a4c-c54a-40b0-a2ad-786f292eb03f",
   "metadata": {},
   "outputs": [],
   "source": [
    "cnn = torchvision.models.squeezenet1_1(pretrained=True)\n",
    "\n",
    "preds = []\n",
    "for i in range(X.shape[0]):\n",
    "    processed_X = torch.tensor(preprocess_image(X[i])).permute((2, 0, 1))[None,]\n",
    "    predicted_y = int(cnn(processed_X).argmax())\n",
    "    preds.append(predicted_y)"
   ]
  },
  {
   "cell_type": "code",
   "execution_count": null,
   "id": "b4594694-8347-469b-9059-f6b168e48402",
   "metadata": {},
   "outputs": [],
   "source": [
    "print(f\"accuracy of the cnn is {(np.array(preds) == y).sum() / y.shape[0]}\")"
   ]
  },
  {
   "cell_type": "code",
   "execution_count": null,
   "id": "a58d268a-fe72-45f7-96bc-cce29086b394",
   "metadata": {},
   "outputs": [],
   "source": [
    "for i in range(X.shape[0]):\n",
    "    plt.figure()\n",
    "    plt.imshow(X[i])\n",
    "    plt.title(f\"actual: {class_names[y[i]]}\\npredicted: {class_names[preds[i]]}\")"
   ]
  },
  {
   "cell_type": "code",
   "execution_count": null,
   "id": "b6a1189e-c7dc-4007-87d8-a68fba76a2c2",
   "metadata": {},
   "outputs": [],
   "source": []
  }
 ],
 "metadata": {
  "kernelspec": {
   "display_name": "Python 3",
   "language": "python",
   "name": "python3"
  },
  "language_info": {
   "codemirror_mode": {
    "name": "ipython",
    "version": 3
   },
   "file_extension": ".py",
   "mimetype": "text/x-python",
   "name": "python",
   "nbconvert_exporter": "python",
   "pygments_lexer": "ipython3",
   "version": "3.6.5"
  }
 },
 "nbformat": 4,
 "nbformat_minor": 5
}
