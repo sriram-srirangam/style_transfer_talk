{
 "cells": [
  {
   "cell_type": "code",
   "execution_count": null,
   "id": "997b05ca-65e3-4ead-ba35-ac309ba8034e",
   "metadata": {},
   "outputs": [],
   "source": [
    "import torch\n",
    "\n",
    "import matplotlib.pyplot as plt\n",
    "from matplotlib.animation import FuncAnimation\n",
    "\n",
    "from utils import *"
   ]
  },
  {
   "cell_type": "code",
   "execution_count": null,
   "id": "e7176606-e4b3-4c3d-9315-5a6dbf54eea6",
   "metadata": {},
   "outputs": [],
   "source": [
    "%matplotlib widget"
   ]
  },
  {
   "cell_type": "code",
   "execution_count": null,
   "id": "6559734a-327a-4507-9cdf-bf629ed699c5",
   "metadata": {},
   "outputs": [],
   "source": [
    "x = torch.linspace(-10, 10, 500)"
   ]
  },
  {
   "cell_type": "code",
   "execution_count": null,
   "id": "4decd90d-b21b-46e2-95eb-ff136f8f8c83",
   "metadata": {},
   "outputs": [],
   "source": [
    "f = lambda x: with_grad(x ** 2)"
   ]
  },
  {
   "cell_type": "code",
   "execution_count": null,
   "id": "d78ce1e1-06ef-4a5b-bf5f-9170a1db21cb",
   "metadata": {},
   "outputs": [],
   "source": [
    "y = []\n",
    "dy_dx = []\n",
    "for point in x:\n",
    "    point.requires_grad_(True)\n",
    "    y.append(f(point))\n",
    "    dy_dx.append(point.grad)"
   ]
  },
  {
   "cell_type": "code",
   "execution_count": null,
   "id": "26692617-6753-43a6-a5ef-1762bfc85304",
   "metadata": {
    "tags": []
   },
   "outputs": [],
   "source": [
    "# f(x)\n",
    "plot_points(x, y, \"y = f(x)\")\n",
    "\n",
    "# Tangent line\n",
    "p = 3.0\n",
    "p = torch.tensor(p).requires_grad_(True)\n",
    "f_p = f(p)\n",
    "tan_line = [p.grad * point - p.grad * p + f_p for point in x]\n",
    "plt.plot(x, tan_line)\n",
    "plt.plot([p], [f_p], \"ro\")\n",
    "\n",
    "# dy/dx\n",
    "plot_points(x, dy_dx, \"dy/dx\")\n",
    "plt.plot([p], [p.grad], \"ro\")\n",
    "plt.plot([], [])"
   ]
  },
  {
   "cell_type": "markdown",
   "id": "0b16d5c7-f9a8-4e08-8bd1-4e7c42e09b4a",
   "metadata": {
    "tags": []
   },
   "source": [
    "## Tangent Lines"
   ]
  },
  {
   "cell_type": "code",
   "execution_count": null,
   "id": "92498f51-f8f6-4654-b635-cee14ed1c905",
   "metadata": {},
   "outputs": [],
   "source": [
    "fig, ax_f = plt.subplots()\n",
    "fig.suptitle(\"Tangent Line Approximation\", fontweight=\"bold\")\n",
    "\n",
    "ax_f.grid()\n",
    "\n",
    "ax_f.set_title(\"f(x)\")\n",
    "\n",
    "ax_f.plot(x, y, label=\"f(x)\")\n",
    "\n",
    "p = -6.0\n",
    "p = torch.tensor(p).requires_grad_(True)\n",
    "f_p = f(p)\n",
    "ax_f.plot([p], [f_p], \"ro\", zorder=10)\n",
    "ax_f.plot(x, [p.grad * point - p.grad * p + f_p for point in x], zorder=9, label=\"True tangent line\")\n",
    "\n",
    "qs = torch.linspace(p.data + 3.0, p.data + 0.0001, 200)\n",
    "f_qs = [f(q.requires_grad_(True)) for q in qs]\n",
    "\n",
    "tan_line, = ax_f.plot([], \"y\", label=\"Approximation\")\n",
    "q_tan_line, = ax_f.plot([], \"go\")\n",
    "\n",
    "ax_f.axhline(y=0, color='k')\n",
    "ax_f.axvline(x=0, color='k')\n",
    "ax_f.set_xlim(min(x).data, max(x).data)\n",
    "ax_f.set_ylim(min(y).data - 1, max(y).data + 1)\n",
    "\n",
    "def animate_tangent_line(ord_pair):\n",
    "    q, f_q = ord_pair\n",
    "    m = (f_p - f_q) / (p - q)\n",
    "    tan_line.set_data((x, [m * point - m * q + f_q for point in x]))\n",
    "    q_tan_line.set_data(([q], [f_q]))\n",
    "\n",
    "anim = FuncAnimation(fig, animate_tangent_line, frames=zip(qs, f_qs), interval=1, repeat=False)\n",
    "\n",
    "tan_line.set_data((x, [p.grad * point - p.grad * p + f_p for point in x]))\n",
    "q_tan_line.set_data(([p], [f_p]))\n",
    "\n",
    "plt.legend(loc='upper right')\n",
    "plt.show()"
   ]
  },
  {
   "cell_type": "code",
   "execution_count": null,
   "id": "9f4dd90a-b8e8-4db2-9545-198312d5247f",
   "metadata": {
    "tags": []
   },
   "outputs": [],
   "source": [
    "fig, (ax_f, ax_d) = plt.subplots(2, sharex=True)\n",
    "fig.suptitle(\"Tangent Line At Each Point\", fontweight=\"bold\")\n",
    "\n",
    "ax_f.grid()\n",
    "ax_d.grid()\n",
    "\n",
    "ax_f.set_title(\"f(x)\")\n",
    "ax_d.set_title(\"dy/dx\")\n",
    "\n",
    "ax_f.plot(x, y)\n",
    "ax_d.plot(x, dy_dx, \"c\")\n",
    "\n",
    "tan_line, = ax_f.plot([])\n",
    "p_tan_line, = ax_f.plot([], \"ko\", zorder=10)\n",
    "p_d, = ax_d.plot([], \"ro\", zorder=10)\n",
    "\n",
    "ax_f.axhline(y=0, color='k')\n",
    "ax_f.axvline(x=0, color='k')\n",
    "ax_f.set_xlim(min(x).data, max(x).data)\n",
    "ax_f.set_ylim(min(y).data - 1, max(y).data + 1)\n",
    "\n",
    "ax_d.axhline(y=0, color='k')\n",
    "ax_d.axvline(x=0, color='k')\n",
    "ax_d.set_xlim(min(x).data, max(x).data)\n",
    "ax_d.set_ylim(min(dy_dx).data - 1, max(dy_dx).data + 1)\n",
    "\n",
    "def animate_tangent_line(p):\n",
    "    p_x, p_y, dp = p\n",
    "    if dp < 0:\n",
    "        tan_line.set_color(\"r\")\n",
    "        p_d.set_color(\"r\")\n",
    "    elif dp == 0:\n",
    "        tan_line.set_color(\"k\")\n",
    "        p_d.set_color(\"k\")\n",
    "    else:\n",
    "        tan_line.set_color(\"g\")\n",
    "        p_d.set_color(\"g\")\n",
    "        \n",
    "    tan_line.set_data((x, [dp * point - dp * p_x + p_y for point in x]))\n",
    "    p_tan_line.set_data(([p_x], [p_y]))\n",
    "    p_d.set_data(([p_x], [dp]))\n",
    "\n",
    "anim = FuncAnimation(fig, animate_tangent_line, frames=zip(x, y, dy_dx), interval=1, repeat=False)\n",
    "plt.show()"
   ]
  },
  {
   "cell_type": "markdown",
   "id": "1a4fbf08-a087-428d-93d8-9a675c9450b0",
   "metadata": {},
   "source": [
    "## Gradient Descent"
   ]
  },
  {
   "cell_type": "code",
   "execution_count": null,
   "id": "0938deec-bf4b-4476-bc39-44fb3574c9d2",
   "metadata": {},
   "outputs": [],
   "source": [
    "fig, ax_f = plt.subplots()\n",
    "fig.suptitle(\"Gradient Descent\", fontweight=\"bold\")\n",
    "\n",
    "ax_f.grid()\n",
    "\n",
    "ax_f.set_title(\"f(x)\")\n",
    "\n",
    "ax_f.plot(x, y, label=\"f(x)\")\n",
    "\n",
    "p = 3.75\n",
    "p = torch.tensor(p).requires_grad_(True)\n",
    "ps, f_ps, dp = gradient_descent(f, p, lr=0.001, eps=0.05)\n",
    "num_steps = 3\n",
    "frames = list(enumerate(torch.tensor(list(zip(ps, f_ps, dp))).repeat_interleave(num_steps, dim=0)))\n",
    "\n",
    "p_plot, = ax_f.plot([], \"ro\", zorder=10)\n",
    "p_tan_line, = ax_f.plot([])\n",
    "new_p_plot, = ax_f.plot([], \"yo\", zorder=9)\n",
    "\n",
    "ax_f.axhline(y=0, color='k')\n",
    "ax_f.axvline(x=0, color='k')\n",
    "ax_f.set_xlim(min(x).data, max(x).data)\n",
    "ax_f.set_ylim(min(y).data - 1, max(y).data + 1)\n",
    "\n",
    "def animate_descent(frame):\n",
    "    i, grad_desc_data = frame\n",
    "    p, f_p, dp = grad_desc_data\n",
    "    if i % num_steps == 0:\n",
    "        # Render just the point on curve\n",
    "        p_plot.set_data(([p], [f_p]))\n",
    "        p_tan_line.set_data(([], []))\n",
    "        new_p_plot.set_data(([], []))\n",
    "    elif i % num_steps == 1:\n",
    "        # Render tangent line around point\n",
    "        p_tan_line.set_data((x, [dp * point - dp * p + f_p for point in x]))\n",
    "    elif i % num_steps == 2:\n",
    "        # Render new point down line\n",
    "        new_p = frames[i + 1][1][0] if i < len(frames) - 1 else frames[-1][1][0]\n",
    "        new_p_plot.set_data(([new_p], [dp * new_p - dp * p + f_p]))\n",
    "\n",
    "anim = FuncAnimation(fig, animate_descent, frames=frames, interval=500, repeat=False)\n",
    "\n",
    "plt.show()"
   ]
  },
  {
   "cell_type": "code",
   "execution_count": null,
   "id": "5f5b3d46-5af2-4e09-a036-f47037545e04",
   "metadata": {},
   "outputs": [],
   "source": [
    "x = torch.linspace(-1, 4, 500)\n",
    "f = lambda x: with_grad(3 * x ** 4 - 16 * x ** 3 + 18 * x ** 2)\n",
    "y = []\n",
    "dy_dx = []\n",
    "for point in x:\n",
    "    point.requires_grad_(True)\n",
    "    y.append(f(point))\n",
    "    dy_dx.append(point.grad)"
   ]
  },
  {
   "cell_type": "code",
   "execution_count": null,
   "id": "2707959d-6fe2-4a6e-8985-484187e1c70c",
   "metadata": {},
   "outputs": [],
   "source": []
  }
 ],
 "metadata": {
  "kernelspec": {
   "display_name": "Python 3",
   "language": "python",
   "name": "python3"
  },
  "language_info": {
   "codemirror_mode": {
    "name": "ipython",
    "version": 3
   },
   "file_extension": ".py",
   "mimetype": "text/x-python",
   "name": "python",
   "nbconvert_exporter": "python",
   "pygments_lexer": "ipython3",
   "version": "3.6.5"
  }
 },
 "nbformat": 4,
 "nbformat_minor": 5
}
